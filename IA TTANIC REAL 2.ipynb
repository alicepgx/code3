{
 "cells": [
  {
   "cell_type": "code",
   "execution_count": 8,
   "id": "fca2f2d7",
   "metadata": {},
   "outputs": [],
   "source": [
    "import pandas as pd\n",
    "data=pd.read_csv('gender_submission.csv')\n",
    "second=pd.read_csv('train_titanic.csv')\n",
    "third=pd.read_csv('test_titanic.csv')\n",
    "\n",
    "\n",
    "# for the analysis we based on the second file\n",
    "\n",
    "\n",
    "\n",
    "#CLEANING\n",
    "second=second.dropna(how='all')\n",
    "second=second.fillna(0)"
   ]
  },
  {
   "cell_type": "code",
   "execution_count": 9,
   "id": "c26dc972",
   "metadata": {},
   "outputs": [],
   "source": [
    "second=second.dropna(how='all')\n",
    "second=second.fillna(0)"
   ]
  },
  {
   "cell_type": "code",
   "execution_count": 10,
   "id": "c8606d07",
   "metadata": {},
   "outputs": [
    {
     "data": {
      "text/plain": [
       "(891, 12)"
      ]
     },
     "execution_count": 10,
     "metadata": {},
     "output_type": "execute_result"
    }
   ],
   "source": [
    "second.shape"
   ]
  },
  {
   "cell_type": "code",
   "execution_count": 30,
   "id": "85471963",
   "metadata": {},
   "outputs": [
    {
     "name": "stdout",
     "output_type": "stream",
     "text": [
      "342\n",
      "891\n"
     ]
    },
    {
     "data": {
      "text/plain": [
       "PassengerId    314\n",
       "Survived       314\n",
       "Pclass         314\n",
       "Name           314\n",
       "Sex            314\n",
       "Age            314\n",
       "SibSp          314\n",
       "Parch          314\n",
       "Ticket         314\n",
       "Fare           314\n",
       "Cabin          314\n",
       "Embarked       314\n",
       "dtype: int64"
      ]
     },
     "execution_count": 30,
     "metadata": {},
     "output_type": "execute_result"
    }
   ],
   "source": [
    "#ANALYSIS\n",
    "print((second['Survived']==1).sum())  #62% of death\n",
    "print(second['Survived'].count())\n",
    "\n",
    "second[second['Sex']=='female'].count()\n",
    "\n",
    "\n"
   ]
  },
  {
   "cell_type": "code",
   "execution_count": 34,
   "id": "0cda88c6",
   "metadata": {},
   "outputs": [
    {
     "data": {
      "text/plain": [
       "3    144\n",
       "1     94\n",
       "2     76\n",
       "Name: Pclass, dtype: int64"
      ]
     },
     "execution_count": 34,
     "metadata": {},
     "output_type": "execute_result"
    }
   ],
   "source": [
    "second[second['Sex']=='female']['Pclass'].value_counts()\n",
    "\n",
    "\n",
    "\n"
   ]
  },
  {
   "cell_type": "code",
   "execution_count": 33,
   "id": "8c299fe4",
   "metadata": {},
   "outputs": [
    {
     "name": "stdout",
     "output_type": "stream",
     "text": [
      "29.936305732484076\n"
     ]
    }
   ],
   "source": [
    "print(((94/314)*100)) # percentage of women in class 1"
   ]
  },
  {
   "cell_type": "code",
   "execution_count": 35,
   "id": "c65357eb",
   "metadata": {},
   "outputs": [
    {
     "name": "stdout",
     "output_type": "stream",
     "text": [
      "21.143847487001732\n"
     ]
    }
   ],
   "source": [
    "second[second['Sex']=='male'].count()\n",
    "\n",
    "second[second['Sex']=='male']['Pclass'].value_counts()\n",
    "\n",
    "print(((122/577)*100)) # percentage of men in class1\n",
    "\n",
    "#most women take tcikets from class 1 "
   ]
  },
  {
   "cell_type": "code",
   "execution_count": 12,
   "id": "9f018077",
   "metadata": {},
   "outputs": [
    {
     "name": "stdout",
     "output_type": "stream",
     "text": [
      "% of women who survived: 0.7420382165605095\n",
      "% of men who survived: 0.18890814558058924\n"
     ]
    }
   ],
   "source": [
    "women = second.loc[second.Sex == 'female'][\"Survived\"]\n",
    "rate_women = sum(women)/len(women)\n",
    "\n",
    "print(\"% of women who survived:\", rate_women)\n",
    "men = second.loc[second.Sex == 'male'][\"Survived\"]\n",
    "rate_men = sum(men)/len(men)\n",
    "\n",
    "print(\"% of men who survived:\", rate_men)\n",
    "#the women are saved first\n"
   ]
  },
  {
   "cell_type": "code",
   "execution_count": 13,
   "id": "84dde4eb",
   "metadata": {},
   "outputs": [
    {
     "name": "stderr",
     "output_type": "stream",
     "text": [
      "C:\\Users\\perringaux alice\\AppData\\Local\\Temp\\ipykernel_5192\\1626343890.py:4: FutureWarning: Indexing with multiple keys (implicitly converted to a tuple of keys) will be deprecated, use a list instead.\n",
      "  display(second.groupby(['Pclass','Sex',])['Age','Fare',].mean())\n"
     ]
    },
    {
     "data": {
      "text/html": [
       "<div>\n",
       "<style scoped>\n",
       "    .dataframe tbody tr th:only-of-type {\n",
       "        vertical-align: middle;\n",
       "    }\n",
       "\n",
       "    .dataframe tbody tr th {\n",
       "        vertical-align: top;\n",
       "    }\n",
       "\n",
       "    .dataframe thead th {\n",
       "        text-align: right;\n",
       "    }\n",
       "</style>\n",
       "<table border=\"1\" class=\"dataframe\">\n",
       "  <thead>\n",
       "    <tr style=\"text-align: right;\">\n",
       "      <th></th>\n",
       "      <th></th>\n",
       "      <th>Age</th>\n",
       "      <th>Fare</th>\n",
       "    </tr>\n",
       "    <tr>\n",
       "      <th>Pclass</th>\n",
       "      <th>Sex</th>\n",
       "      <th></th>\n",
       "      <th></th>\n",
       "    </tr>\n",
       "  </thead>\n",
       "  <tbody>\n",
       "    <tr>\n",
       "      <th rowspan=\"2\" valign=\"top\">1</th>\n",
       "      <th>female</th>\n",
       "      <td>31.297872</td>\n",
       "      <td>106.125798</td>\n",
       "    </tr>\n",
       "    <tr>\n",
       "      <th>male</th>\n",
       "      <td>34.175574</td>\n",
       "      <td>67.226127</td>\n",
       "    </tr>\n",
       "    <tr>\n",
       "      <th rowspan=\"2\" valign=\"top\">2</th>\n",
       "      <th>female</th>\n",
       "      <td>27.967105</td>\n",
       "      <td>21.970121</td>\n",
       "    </tr>\n",
       "    <tr>\n",
       "      <th>male</th>\n",
       "      <td>28.178981</td>\n",
       "      <td>19.741782</td>\n",
       "    </tr>\n",
       "    <tr>\n",
       "      <th rowspan=\"2\" valign=\"top\">3</th>\n",
       "      <th>female</th>\n",
       "      <td>15.406250</td>\n",
       "      <td>16.118810</td>\n",
       "    </tr>\n",
       "    <tr>\n",
       "      <th>male</th>\n",
       "      <td>19.326859</td>\n",
       "      <td>12.661633</td>\n",
       "    </tr>\n",
       "  </tbody>\n",
       "</table>\n",
       "</div>"
      ],
      "text/plain": [
       "                     Age        Fare\n",
       "Pclass Sex                          \n",
       "1      female  31.297872  106.125798\n",
       "       male    34.175574   67.226127\n",
       "2      female  27.967105   21.970121\n",
       "       male    28.178981   19.741782\n",
       "3      female  15.406250   16.118810\n",
       "       male    19.326859   12.661633"
      ]
     },
     "metadata": {},
     "output_type": "display_data"
    }
   ],
   "source": [
    "import seaborn as sns\n",
    "import matplotlib.pyplot as plt\n",
    "\n",
    "display(second.groupby(['Pclass','Sex',])['Age','Fare',].mean())\n",
    "\n",
    "#more old people choose class 1 because they have generaly more money\n",
    "\n",
    "# women pay more for tickets because they have class 1 tickets\n",
    "# men are often older than women\n",
    "\n"
   ]
  },
  {
   "cell_type": "code",
   "execution_count": 14,
   "id": "e0422320",
   "metadata": {},
   "outputs": [
    {
     "data": {
      "text/plain": [
       "Survived\n",
       "0    23.653005\n",
       "1    24.034123\n",
       "Name: Age, dtype: float64"
      ]
     },
     "execution_count": 14,
     "metadata": {},
     "output_type": "execute_result"
    }
   ],
   "source": [
    "second.groupby('Survived')['Age'].mean()\n",
    "#mean of survivants:23, death: 23  # no corelation with age"
   ]
  },
  {
   "cell_type": "code",
   "execution_count": 81,
   "id": "d9e6a89e",
   "metadata": {},
   "outputs": [
    {
     "data": {
      "text/plain": [
       "Survived\n",
       "0    24.0\n",
       "1    25.0\n",
       "Name: Age, dtype: float64"
      ]
     },
     "execution_count": 81,
     "metadata": {},
     "output_type": "execute_result"
    }
   ],
   "source": [
    "second.groupby('Survived')['Age'].median()\n",
    "#the older survived more"
   ]
  },
  {
   "cell_type": "code",
   "execution_count": 82,
   "id": "b54f70f8",
   "metadata": {},
   "outputs": [
    {
     "data": {
      "text/plain": [
       "Pclass\n",
       "1    35.0\n",
       "2    28.0\n",
       "3    20.0\n",
       "Name: Age, dtype: float64"
      ]
     },
     "metadata": {},
     "output_type": "display_data"
    },
    {
     "data": {
      "text/plain": [
       "3    491\n",
       "1    216\n",
       "2    184\n",
       "Name: Pclass, dtype: int64"
      ]
     },
     "execution_count": 82,
     "metadata": {},
     "output_type": "execute_result"
    }
   ],
   "source": [
    "import seaborn as sns\n",
    "import matplotlib.pyplot as plt\n",
    "display(second.groupby('Pclass')['Age'].median())\n",
    "#more old people choose class 1 because they have generaly more money\n",
    "\n",
    "second[second['Age']<100]['Pclass'].value_counts()\n",
    "#they were more people in class 3"
   ]
  },
  {
   "cell_type": "code",
   "execution_count": 16,
   "id": "25dc3c9d",
   "metadata": {},
   "outputs": [
    {
     "data": {
      "text/plain": [
       "Pclass\n",
       "1    0.629630\n",
       "2    0.472826\n",
       "3    0.242363\n",
       "Name: Survived, dtype: float64"
      ]
     },
     "execution_count": 16,
     "metadata": {},
     "output_type": "execute_result"
    }
   ],
   "source": [
    "second.groupby(['Pclass'])['Survived'].mean()"
   ]
  },
  {
   "cell_type": "code",
   "execution_count": 17,
   "id": "4e5fec6f",
   "metadata": {},
   "outputs": [
    {
     "data": {
      "text/plain": [
       "<Axes: xlabel='Pclass', ylabel='count'>"
      ]
     },
     "execution_count": 17,
     "metadata": {},
     "output_type": "execute_result"
    },
    {
     "data": {
      "image/png": "[encoded data removed]",
      "text/plain": [
       "<Figure size 640x480 with 1 Axes>"
      ]
     },
     "metadata": {},
     "output_type": "display_data"
    }
   ],
   "source": [
    "import seaborn as sns\n",
    "sns.countplot(x=\"Pclass\", hue=\"Survived\", data=second)\n",
    "#correlation beetween class and survived \n",
    "#more dead in class 3 because more people and class 3 was under the boat so more in dange"
   ]
  },
  {
   "cell_type": "code",
   "execution_count": 18,
   "id": "6d069423",
   "metadata": {},
   "outputs": [
    {
     "data": {
      "text/plain": [
       "<Axes: xlabel='Pclass', ylabel='Fare'>"
      ]
     },
     "execution_count": 18,
     "metadata": {},
     "output_type": "execute_result"
    },
    {
     "data": {
      "image/png": "[encoded data removed]",
      "text/plain": [
       "<Figure size 640x480 with 1 Axes>"
      ]
     },
     "metadata": {},
     "output_type": "display_data"
    }
   ],
   "source": [
    "\n",
    "sns.barplot(data=second, x='Pclass', y='Fare', hue='Survived')\n",
    "#the first class is the most expensive\n",
    "#correlation beetween fare, class and survived\n",
    "#those who survived in class 1 have maye paid even more for the ticket, maybe even more expensive cabins.\n"
   ]
  },
  {
   "cell_type": "code",
   "execution_count": 83,
   "id": "8f4954ce",
   "metadata": {},
   "outputs": [
    {
     "data": {
      "text/plain": [
       "Embarked\n",
       "0    1.000000\n",
       "C    0.553571\n",
       "Q    0.389610\n",
       "S    0.336957\n",
       "Name: Survived, dtype: float64"
      ]
     },
     "metadata": {},
     "output_type": "display_data"
    },
    {
     "name": "stdout",
     "output_type": "stream",
     "text": [
      "  Embarked  Pclass  Count\n",
      "0        0       1      2\n",
      "1        C       1     85\n",
      "2        C       2     17\n",
      "3        C       3     66\n",
      "4        Q       1      2\n",
      "5        Q       2      3\n",
      "6        Q       3     72\n",
      "7        S       1    127\n",
      "8        S       2    164\n",
      "9        S       3    353\n"
     ]
    }
   ],
   "source": [
    "display(second.groupby('Embarked')['Survived'].mean())\n",
    "#more chance to survive for embarked c\n",
    "\n",
    "a = second.groupby(['Embarked', 'Pclass']).size().reset_index(name='Count')\n",
    "\n",
    "print(a)\n",
    "#19percent for S for access class1 \n",
    "#50 percent of access of class 1 for C embarked \n"
   ]
  },
  {
   "cell_type": "code",
   "execution_count": 96,
   "id": "53898b9f",
   "metadata": {},
   "outputs": [
    {
     "name": "stdout",
     "output_type": "stream",
     "text": [
      "Number people in class 1 :  216\n",
      "Number people in class 2 :  184\n",
      "Number people in class 3 :  491\n"
     ]
    }
   ],
   "source": [
    "number_people_class1 = train[\"Pclass\"].value_counts()[1]\n",
    "print(\"Number people in class 1 : \",number_people_class1)\n",
    "number_people_class2 = train[\"Pclass\"].value_counts()[2]\n",
    "print(\"Number people in class 2 : \",number_people_class2)\n",
    "number_people_class3 = train[\"Pclass\"].value_counts()[3]\n",
    "print(\"Number people in class 3 : \",number_people_class3)"
   ]
  },
  {
   "cell_type": "code",
   "execution_count": 87,
   "id": "4379f367",
   "metadata": {},
   "outputs": [
    {
     "name": "stdout",
     "output_type": "stream",
     "text": [
      "85\n"
     ]
    }
   ],
   "source": [
    "print(second.loc[(second[\"Embarked\"] == 'C') & (second[\"Pclass\"] == 1) ].count()[\"Embarked\"])"
   ]
  },
  {
   "cell_type": "code",
   "execution_count": 95,
   "id": "5c9590b9",
   "metadata": {},
   "outputs": [
    {
     "name": "stdout",
     "output_type": "stream",
     "text": [
      "891\n"
     ]
    }
   ],
   "source": [
    "print((second[\"Pclass\"] == 1).count())"
   ]
  },
  {
   "cell_type": "code",
   "execution_count": 97,
   "id": "4d9d4b54",
   "metadata": {},
   "outputs": [
    {
     "name": "stdout",
     "output_type": "stream",
     "text": [
      "59\n",
      "69.41176470588235\n"
     ]
    }
   ],
   "source": [
    "print(second.loc[(second[\"Embarked\"] == 'C') & (second[\"Pclass\"] == 1) & (second[\"Survived\"]==1)].count()[\"Embarked\"])\n",
    "print(59*100/85)\n",
    "#percentage of survivants in class 1 where embarked in C \n",
    "#more survivant in class 1 than class2 \n"
   ]
  },
  {
   "cell_type": "code",
   "execution_count": 90,
   "id": "b087fb77",
   "metadata": {},
   "outputs": [
    {
     "name": "stdout",
     "output_type": "stream",
     "text": [
      "17\n"
     ]
    }
   ],
   "source": [
    "print(second.loc[(second[\"Embarked\"] == 'C') & (second[\"Pclass\"] == 2)].count()[\"Embarked\"])"
   ]
  },
  {
   "cell_type": "code",
   "execution_count": 99,
   "id": "cb02a6c7",
   "metadata": {},
   "outputs": [
    {
     "name": "stdout",
     "output_type": "stream",
     "text": [
      "9\n",
      "52.94117647058823\n"
     ]
    }
   ],
   "source": [
    "print(second.loc[(second[\"Embarked\"] == 'C') & (second[\"Pclass\"] == 2) & (second[\"Survived\"]==1)].count()[\"Embarked\"])\n",
    "print(9*100/17) #percentage of survivants in class 2 where embarked in C "
   ]
  },
  {
   "cell_type": "code",
   "execution_count": 105,
   "id": "fcf3ae49",
   "metadata": {},
   "outputs": [
    {
     "name": "stdout",
     "output_type": "stream",
     "text": [
      "127\n"
     ]
    }
   ],
   "source": [
    "print(second.loc[(second[\"Embarked\"] == 'S') & (second[\"Pclass\"] == 1)].count()[\"Embarked\"])"
   ]
  },
  {
   "cell_type": "code",
   "execution_count": null,
   "id": "7622a7eb",
   "metadata": {},
   "outputs": [],
   "source": []
  },
  {
   "cell_type": "code",
   "execution_count": 56,
   "id": "0c8cc4e4",
   "metadata": {},
   "outputs": [
    {
     "data": {
      "image/png": "[encoded data removed]",
      "text/plain": [
       "<Figure size 640x480 with 1 Axes>"
      ]
     },
     "metadata": {},
     "output_type": "display_data"
    }
   ],
   "source": [
    "second[['SibSp', 'Survived']].groupby(['SibSp'], as_index=False).mean().sort_values(by='Survived', ascending=False)\n",
    "# the most people that are suscptible to survived are the ones that have brother or sister\n",
    "\n",
    "\n",
    "# In[45]:\n",
    "\n",
    "\n",
    "second['size_famille']=second['SibSp']+second['Parch']\n",
    "plt.figure()\n",
    "second[['size_famille','Survived']].groupby('size_famille')['Survived'].mean().plot(kind='bar')\n",
    "plt.suptitle('link family and survived')\n",
    "\n",
    "plt.show()\n",
    "#the family of 3 had the more chance to survive\n"
   ]
  },
  {
   "cell_type": "code",
   "execution_count": 62,
   "id": "7150f1b0",
   "metadata": {},
   "outputs": [
    {
     "name": "stdout",
     "output_type": "stream",
     "text": [
      "290\n"
     ]
    }
   ],
   "source": [
    "enfant=second.loc[second['Age']<18].count()[\"Age\"]\n",
    "print(enfant"
   ]
  },
  {
   "cell_type": "code",
   "execution_count": 69,
   "id": "ddd08de5",
   "metadata": {},
   "outputs": [
    {
     "name": "stdout",
     "output_type": "stream",
     "text": [
      "113\n",
      "pourcentage enfant survecu \n",
      "38.96551724137931\n"
     ]
    }
   ],
   "source": [
    "enfants_survecus = second.loc[(second['Age'] < 18) & (second['Survived'] == 1) ].count()[\"Age\"]\n",
    "print(enfants_survecus)\n",
    "print(\"pourcentage enfant survecu \")\n",
    "print(113*100/290)"
   ]
  },
  {
   "cell_type": "code",
   "execution_count": 76,
   "id": "9c71679c",
   "metadata": {},
   "outputs": [
    {
     "name": "stdout",
     "output_type": "stream",
     "text": [
      "42\n",
      "34\n",
      "214\n"
     ]
    }
   ],
   "source": [
    "enfants_class1 = second.loc[(second['Age'] < 18) & (second['Pclass'] == 1) ].count()[\"Age\"]\n",
    "print(enfants_class1)\n",
    "enfants_class2 = second.loc[(second['Age'] < 18) & (second['Pclass'] == 2) ].count()[\"Age\"]\n",
    "print(enfants_class2)\n",
    "enfants_class3 = second.loc[(second['Age'] < 18) & (second['Pclass'] == 3) ].count()[\"Age\"]\n",
    "print(enfants_class3)"
   ]
  },
  {
   "cell_type": "code",
   "execution_count": 75,
   "id": "15395620",
   "metadata": {},
   "outputs": [
    {
     "name": "stdout",
     "output_type": "stream",
     "text": [
      "42\n"
     ]
    }
   ],
   "source": []
  },
  {
   "cell_type": "code",
   "execution_count": 78,
   "id": "356e0555",
   "metadata": {},
   "outputs": [
    {
     "name": "stdout",
     "output_type": "stream",
     "text": [
      "25\n",
      "25\n",
      "63\n"
     ]
    }
   ],
   "source": [
    "enfants_survecus1 = second.loc[(second['Age'] < 18) & (second['Survived'] == 1) & (second['Pclass']==1)].count()[\"Age\"]\n",
    "print(enfants_survecus1)# 25 childreen save for class1\n",
    "enfants_survecus2 = second.loc[(second['Age'] < 18) & (second['Survived'] == 1) & (second['Pclass']==2)].count()[\"Age\"]\n",
    "print(enfants_survecus2) #25 childreen save for class2\n",
    "enfants_survecus3 = second.loc[(second['Age'] < 18) & (second['Survived'] == 1) & (second['Pclass']==3)].count()[\"Age\"]\n",
    "print(enfants_survecus3)#63 childreen save for class3"
   ]
  },
  {
   "cell_type": "code",
   "execution_count": 77,
   "id": "c10a50df",
   "metadata": {},
   "outputs": [
    {
     "name": "stdout",
     "output_type": "stream",
     "text": [
      "percentage class1 childreen=\n",
      "59.523809523809526\n"
     ]
    }
   ],
   "source": [
    "print(\"percentage class1 childreen survived=\")\n",
    "print(25*100/42)"
   ]
  },
  {
   "cell_type": "code",
   "execution_count": 79,
   "id": "9af4e12d",
   "metadata": {},
   "outputs": [
    {
     "name": "stdout",
     "output_type": "stream",
     "text": [
      "percentage class2 childreen survived=\n",
      "73.52941176470588\n"
     ]
    }
   ],
   "source": [
    "print(\"percentage class2 childreen survived=\")\n",
    "print(25*100/34)"
   ]
  },
  {
   "cell_type": "code",
   "execution_count": 80,
   "id": "822a9207",
   "metadata": {},
   "outputs": [
    {
     "name": "stdout",
     "output_type": "stream",
     "text": [
      "percentage class3 childreen survived=\n",
      "29.439252336448597\n"
     ]
    }
   ],
   "source": [
    "print(\"percentage class3 childreen survived=\")\n",
    "print(63*100/214)"
   ]
  },
  {
   "cell_type": "code",
   "execution_count": null,
   "id": "9a434a0a",
   "metadata": {},
   "outputs": [],
   "source": [
    "\n",
    "conca[conca['Age']<1000].groupby(['Sex','Pclass']).mean()\n",
    "#tableau recap"
   ]
  },
  {
   "cell_type": "code",
   "execution_count": null,
   "id": "534509f1",
   "metadata": {},
   "outputs": [],
   "source": []
  },
  {
   "cell_type": "code",
   "execution_count": 54,
   "id": "e2cdb55c",
   "metadata": {},
   "outputs": [
    {
     "name": "stdout",
     "output_type": "stream",
     "text": [
      "     PassengerId  Survived  Pclass  \\\n",
      "0              1         0       3   \n",
      "1              2         1       1   \n",
      "2              3         1       3   \n",
      "3              4         1       1   \n",
      "4              5         0       3   \n",
      "..           ...       ...     ...   \n",
      "886          887         0       2   \n",
      "887          888         1       1   \n",
      "888          889         0       3   \n",
      "889          890         1       1   \n",
      "890          891         0       3   \n",
      "\n",
      "                                                  Name     Sex   Age  SibSp  \\\n",
      "0                              Braund, Mr. Owen Harris    male  22.0      1   \n",
      "1    Cumings, Mrs. John Bradley (Florence Briggs Th...  female  38.0      1   \n",
      "2                               Heikkinen, Miss. Laina  female  26.0      0   \n",
      "3         Futrelle, Mrs. Jacques Heath (Lily May Peel)  female  35.0      1   \n",
      "4                             Allen, Mr. William Henry    male  35.0      0   \n",
      "..                                                 ...     ...   ...    ...   \n",
      "886                              Montvila, Rev. Juozas    male  27.0      0   \n",
      "887                       Graham, Miss. Margaret Edith  female  19.0      0   \n",
      "888           Johnston, Miss. Catherine Helen \"Carrie\"  female   0.0      1   \n",
      "889                              Behr, Mr. Karl Howell    male  26.0      0   \n",
      "890                                Dooley, Mr. Patrick    male  32.0      0   \n",
      "\n",
      "     Parch            Ticket     Fare Cabin Embarked  \n",
      "0        0         A/5 21171   7.2500     0        S  \n",
      "1        0          PC 17599  71.2833   C85        C  \n",
      "2        0  STON/O2. 3101282   7.9250     0        S  \n",
      "3        0            113803  53.1000  C123        S  \n",
      "4        0            373450   8.0500     0        S  \n",
      "..     ...               ...      ...   ...      ...  \n",
      "886      0            211536  13.0000     0        S  \n",
      "887      0            112053  30.0000   B42        S  \n",
      "888      2        W./C. 6607  23.4500     0        S  \n",
      "889      0            111369  30.0000  C148        C  \n",
      "890      0            370376   7.7500     0        Q  \n",
      "\n",
      "[891 rows x 12 columns]\n"
     ]
    }
   ],
   "source": [
    "print(second)"
   ]
  },
  {
   "cell_type": "code",
   "execution_count": 53,
   "id": "f5aee990",
   "metadata": {},
   "outputs": [
    {
     "name": "stderr",
     "output_type": "stream",
     "text": [
      "C:\\Users\\perringaux alice\\miniconda3\\envs\\py38_1\\lib\\site-packages\\sklearn\\linear_model\\_logistic.py:458: ConvergenceWarning: lbfgs failed to converge (status=1):\n",
      "STOP: TOTAL NO. of ITERATIONS REACHED LIMIT.\n",
      "\n",
      "Increase the number of iterations (max_iter) or scale the data as shown in:\n",
      "    https://scikit-learn.org/stable/modules/preprocessing.html\n",
      "Please also refer to the documentation for alternative solver options:\n",
      "    https://scikit-learn.org/stable/modules/linear_model.html#logistic-regression\n",
      "  n_iter_i = _check_optimize_result(\n",
      "C:\\Users\\perringaux alice\\miniconda3\\envs\\py38_1\\lib\\site-packages\\sklearn\\linear_model\\_logistic.py:458: ConvergenceWarning: lbfgs failed to converge (status=1):\n",
      "STOP: TOTAL NO. of ITERATIONS REACHED LIMIT.\n",
      "\n",
      "Increase the number of iterations (max_iter) or scale the data as shown in:\n",
      "    https://scikit-learn.org/stable/modules/preprocessing.html\n",
      "Please also refer to the documentation for alternative solver options:\n",
      "    https://scikit-learn.org/stable/modules/linear_model.html#logistic-regression\n",
      "  n_iter_i = _check_optimize_result(\n",
      "C:\\Users\\perringaux alice\\miniconda3\\envs\\py38_1\\lib\\site-packages\\sklearn\\linear_model\\_logistic.py:458: ConvergenceWarning: lbfgs failed to converge (status=1):\n",
      "STOP: TOTAL NO. of ITERATIONS REACHED LIMIT.\n",
      "\n",
      "Increase the number of iterations (max_iter) or scale the data as shown in:\n",
      "    https://scikit-learn.org/stable/modules/preprocessing.html\n",
      "Please also refer to the documentation for alternative solver options:\n",
      "    https://scikit-learn.org/stable/modules/linear_model.html#logistic-regression\n",
      "  n_iter_i = _check_optimize_result(\n",
      "C:\\Users\\perringaux alice\\miniconda3\\envs\\py38_1\\lib\\site-packages\\sklearn\\linear_model\\_logistic.py:458: ConvergenceWarning: lbfgs failed to converge (status=1):\n",
      "STOP: TOTAL NO. of ITERATIONS REACHED LIMIT.\n",
      "\n",
      "Increase the number of iterations (max_iter) or scale the data as shown in:\n",
      "    https://scikit-learn.org/stable/modules/preprocessing.html\n",
      "Please also refer to the documentation for alternative solver options:\n",
      "    https://scikit-learn.org/stable/modules/linear_model.html#logistic-regression\n",
      "  n_iter_i = _check_optimize_result(\n",
      "C:\\Users\\perringaux alice\\miniconda3\\envs\\py38_1\\lib\\site-packages\\sklearn\\linear_model\\_logistic.py:458: ConvergenceWarning: lbfgs failed to converge (status=1):\n",
      "STOP: TOTAL NO. of ITERATIONS REACHED LIMIT.\n",
      "\n",
      "Increase the number of iterations (max_iter) or scale the data as shown in:\n",
      "    https://scikit-learn.org/stable/modules/preprocessing.html\n",
      "Please also refer to the documentation for alternative solver options:\n",
      "    https://scikit-learn.org/stable/modules/linear_model.html#logistic-regression\n",
      "  n_iter_i = _check_optimize_result(\n",
      "C:\\Users\\perringaux alice\\miniconda3\\envs\\py38_1\\lib\\site-packages\\sklearn\\linear_model\\_logistic.py:458: ConvergenceWarning: lbfgs failed to converge (status=1):\n",
      "STOP: TOTAL NO. of ITERATIONS REACHED LIMIT.\n",
      "\n",
      "Increase the number of iterations (max_iter) or scale the data as shown in:\n",
      "    https://scikit-learn.org/stable/modules/preprocessing.html\n",
      "Please also refer to the documentation for alternative solver options:\n",
      "    https://scikit-learn.org/stable/modules/linear_model.html#logistic-regression\n",
      "  n_iter_i = _check_optimize_result(\n",
      "C:\\Users\\perringaux alice\\miniconda3\\envs\\py38_1\\lib\\site-packages\\sklearn\\linear_model\\_logistic.py:458: ConvergenceWarning: lbfgs failed to converge (status=1):\n",
      "STOP: TOTAL NO. of ITERATIONS REACHED LIMIT.\n",
      "\n",
      "Increase the number of iterations (max_iter) or scale the data as shown in:\n",
      "    https://scikit-learn.org/stable/modules/preprocessing.html\n",
      "Please also refer to the documentation for alternative solver options:\n",
      "    https://scikit-learn.org/stable/modules/linear_model.html#logistic-regression\n",
      "  n_iter_i = _check_optimize_result(\n",
      "C:\\Users\\perringaux alice\\miniconda3\\envs\\py38_1\\lib\\site-packages\\sklearn\\linear_model\\_logistic.py:458: ConvergenceWarning: lbfgs failed to converge (status=1):\n",
      "STOP: TOTAL NO. of ITERATIONS REACHED LIMIT.\n",
      "\n",
      "Increase the number of iterations (max_iter) or scale the data as shown in:\n",
      "    https://scikit-learn.org/stable/modules/preprocessing.html\n",
      "Please also refer to the documentation for alternative solver options:\n",
      "    https://scikit-learn.org/stable/modules/linear_model.html#logistic-regression\n",
      "  n_iter_i = _check_optimize_result(\n",
      "C:\\Users\\perringaux alice\\miniconda3\\envs\\py38_1\\lib\\site-packages\\sklearn\\linear_model\\_logistic.py:458: ConvergenceWarning: lbfgs failed to converge (status=1):\n",
      "STOP: TOTAL NO. of ITERATIONS REACHED LIMIT.\n",
      "\n",
      "Increase the number of iterations (max_iter) or scale the data as shown in:\n",
      "    https://scikit-learn.org/stable/modules/preprocessing.html\n",
      "Please also refer to the documentation for alternative solver options:\n",
      "    https://scikit-learn.org/stable/modules/linear_model.html#logistic-regression\n",
      "  n_iter_i = _check_optimize_result(\n",
      "C:\\Users\\perringaux alice\\miniconda3\\envs\\py38_1\\lib\\site-packages\\sklearn\\linear_model\\_logistic.py:458: ConvergenceWarning: lbfgs failed to converge (status=1):\n",
      "STOP: TOTAL NO. of ITERATIONS REACHED LIMIT.\n",
      "\n",
      "Increase the number of iterations (max_iter) or scale the data as shown in:\n",
      "    https://scikit-learn.org/stable/modules/preprocessing.html\n",
      "Please also refer to the documentation for alternative solver options:\n",
      "    https://scikit-learn.org/stable/modules/linear_model.html#logistic-regression\n",
      "  n_iter_i = _check_optimize_result(\n",
      "C:\\Users\\perringaux alice\\miniconda3\\envs\\py38_1\\lib\\site-packages\\sklearn\\linear_model\\_logistic.py:458: ConvergenceWarning: lbfgs failed to converge (status=1):\n",
      "STOP: TOTAL NO. of ITERATIONS REACHED LIMIT.\n",
      "\n",
      "Increase the number of iterations (max_iter) or scale the data as shown in:\n",
      "    https://scikit-learn.org/stable/modules/preprocessing.html\n",
      "Please also refer to the documentation for alternative solver options:\n",
      "    https://scikit-learn.org/stable/modules/linear_model.html#logistic-regression\n",
      "  n_iter_i = _check_optimize_result(\n",
      "C:\\Users\\perringaux alice\\miniconda3\\envs\\py38_1\\lib\\site-packages\\sklearn\\linear_model\\_logistic.py:458: ConvergenceWarning: lbfgs failed to converge (status=1):\n",
      "STOP: TOTAL NO. of ITERATIONS REACHED LIMIT.\n",
      "\n",
      "Increase the number of iterations (max_iter) or scale the data as shown in:\n",
      "    https://scikit-learn.org/stable/modules/preprocessing.html\n",
      "Please also refer to the documentation for alternative solver options:\n",
      "    https://scikit-learn.org/stable/modules/linear_model.html#logistic-regression\n",
      "  n_iter_i = _check_optimize_result(\n",
      "C:\\Users\\perringaux alice\\miniconda3\\envs\\py38_1\\lib\\site-packages\\sklearn\\linear_model\\_logistic.py:458: ConvergenceWarning: lbfgs failed to converge (status=1):\n",
      "STOP: TOTAL NO. of ITERATIONS REACHED LIMIT.\n",
      "\n",
      "Increase the number of iterations (max_iter) or scale the data as shown in:\n",
      "    https://scikit-learn.org/stable/modules/preprocessing.html\n",
      "Please also refer to the documentation for alternative solver options:\n",
      "    https://scikit-learn.org/stable/modules/linear_model.html#logistic-regression\n",
      "  n_iter_i = _check_optimize_result(\n",
      "C:\\Users\\perringaux alice\\miniconda3\\envs\\py38_1\\lib\\site-packages\\sklearn\\linear_model\\_logistic.py:458: ConvergenceWarning: lbfgs failed to converge (status=1):\n",
      "STOP: TOTAL NO. of ITERATIONS REACHED LIMIT.\n",
      "\n",
      "Increase the number of iterations (max_iter) or scale the data as shown in:\n",
      "    https://scikit-learn.org/stable/modules/preprocessing.html\n",
      "Please also refer to the documentation for alternative solver options:\n",
      "    https://scikit-learn.org/stable/modules/linear_model.html#logistic-regression\n",
      "  n_iter_i = _check_optimize_result(\n",
      "C:\\Users\\perringaux alice\\miniconda3\\envs\\py38_1\\lib\\site-packages\\sklearn\\linear_model\\_logistic.py:458: ConvergenceWarning: lbfgs failed to converge (status=1):\n",
      "STOP: TOTAL NO. of ITERATIONS REACHED LIMIT.\n",
      "\n",
      "Increase the number of iterations (max_iter) or scale the data as shown in:\n",
      "    https://scikit-learn.org/stable/modules/preprocessing.html\n",
      "Please also refer to the documentation for alternative solver options:\n",
      "    https://scikit-learn.org/stable/modules/linear_model.html#logistic-regression\n",
      "  n_iter_i = _check_optimize_result(\n",
      "C:\\Users\\perringaux alice\\miniconda3\\envs\\py38_1\\lib\\site-packages\\sklearn\\linear_model\\_logistic.py:458: ConvergenceWarning: lbfgs failed to converge (status=1):\n",
      "STOP: TOTAL NO. of ITERATIONS REACHED LIMIT.\n",
      "\n",
      "Increase the number of iterations (max_iter) or scale the data as shown in:\n",
      "    https://scikit-learn.org/stable/modules/preprocessing.html\n",
      "Please also refer to the documentation for alternative solver options:\n",
      "    https://scikit-learn.org/stable/modules/linear_model.html#logistic-regression\n",
      "  n_iter_i = _check_optimize_result(\n",
      "C:\\Users\\perringaux alice\\miniconda3\\envs\\py38_1\\lib\\site-packages\\sklearn\\linear_model\\_logistic.py:458: ConvergenceWarning: lbfgs failed to converge (status=1):\n",
      "STOP: TOTAL NO. of ITERATIONS REACHED LIMIT.\n",
      "\n",
      "Increase the number of iterations (max_iter) or scale the data as shown in:\n",
      "    https://scikit-learn.org/stable/modules/preprocessing.html\n",
      "Please also refer to the documentation for alternative solver options:\n",
      "    https://scikit-learn.org/stable/modules/linear_model.html#logistic-regression\n",
      "  n_iter_i = _check_optimize_result(\n"
     ]
    },
    {
     "name": "stdout",
     "output_type": "stream",
     "text": [
      "Best hyperparameters:  {'C': 0.1}\n",
      "Accuracy: 0.7988826815642458\n",
      "Your submission was successfully saved!\n"
     ]
    }
   ],
   "source": [
    "\n",
    "#Bon OK\n",
    "\n",
    "from sklearn.linear_model import LogisticRegression\n",
    "from sklearn.metrics import accuracy_score\n",
    "from sklearn.model_selection import GridSearchCV\n",
    "#import pandas as pd\n",
    "from sklearn.model_selection import train_test_split\n",
    "from sklearn.linear_model import LogisticRegression\n",
    "from sklearn.metrics import accuracy_score\n",
    "\n",
    "# import file\n",
    "train_data = pd.read_csv(\"train_titanic.csv\")\n",
    "test_data = pd.read_csv(\"test_titanic.csv\")\n",
    "train_data['Sex'] =train_data['Sex'].replace('male', 1).replace('female', 0) \n",
    "test_data['Sex'] =test_data['Sex'].replace('male', 1).replace('female', 0)  \n",
    "train_data = pd.get_dummies(train_data, columns=['Embarked'], prefix='Embarked')\n",
    "test_data = pd.get_dummies(test_data, columns=['Embarked'], prefix='Embarked')\n",
    "\n",
    "submission_data = pd.read_csv(\"titanic_gendersubmission.csv\")\n",
    "\n",
    "# Concatenate training and test data\n",
    "all_data = pd.concat([train_data, test_data])\n",
    "all_data[\"Age\"] = all_data[\"Age\"].fillna(all_data[\"Age\"].median())\n",
    "# Prétraiter les données (supprimer les colonnes inutiles, remplir les valeurs manquantes, etc.)\n",
    "\n",
    "# Separate training and test data\n",
    "train = all_data.iloc[:len(train_data)]\n",
    "test = all_data.iloc[len(train_data):]\n",
    "\n",
    "# Separate training data into features and target\n",
    "X = train.drop([\"Name\",\"Survived\", \"PassengerId\",\"Ticket\",\"Cabin\"], axis=1)\n",
    "y = train[\"Survived\"]\n",
    "\n",
    "# Split training data into training set and validation set\n",
    "X_train, X_val, y_train, y_val = train_test_split(X, y, test_size=0.2, random_state=42)\n",
    "\n",
    "# train model\n",
    "model = LogisticRegression()\n",
    "model.fit(X_train, y_train)\n",
    "\n",
    "# Make predictions on the validation set\n",
    "y_pred = model.predict(X_val)\n",
    "\n",
    "\n",
    "param_grid = {'C': [0.001, 0.01, 0.1, 1, 10]}\n",
    "\n",
    "# Define the GridSearchCV object\n",
    "grid_search = GridSearchCV(model, param_grid=param_grid, cv=5)\n",
    "\n",
    "# Train the model using GridSearchCV to perform hyperparameter tuning\n",
    "grid_search.fit(X_train, y_train)\n",
    "\n",
    "# Print the best hyperparameters found by GridSearchCV\n",
    "print(\"Best hyperparameters: \", grid_search.best_params_)\n",
    "\n",
    "# Evaluate the performance of the model on the validation set\n",
    "y_val_pred = grid_search.predict(X_val)\n",
    "\n",
    "# Calculate the accuracy of the model\n",
    "accuracy = accuracy_score(y_val, y_pred)\n",
    "print(\"Accuracy:\", accuracy)\n",
    "\n",
    "\n",
    "from sklearn.ensemble import RandomForestClassifier\n",
    "newsecond=second\n",
    "newthird=third\n",
    "y = newsecond[\"Survived\"]\n",
    "newsecond=pd.get_dummies(newsecond, columns=['Embarked'], prefix='Embarked')\n",
    "newthird=pd.get_dummies(newthird, columns=['Embarked'], prefix='Embarked')\n",
    "features = [\"Pclass\",\"Age\", \"Sex\", \"SibSp\", \"Parch\",  \"Embarked_C\",\"Embarked_Q\",  \"Embarked_S\" ]   \n",
    "\n",
    "X = pd.get_dummies(newsecond[features])\n",
    "X_test = pd.get_dummies(newthird[features])\n",
    "X[\"Age\"].fillna(X[\"Age\"].median(), inplace=True)\n",
    "X_test[\"Age\"].fillna(X_test[\"Age\"].median(), inplace=True)\n",
    "model = RandomForestClassifier(n_estimators=100, max_depth=9, random_state=1)\n",
    "model.fit(X, y)\n",
    "predictions = model.predict(X_test)\n",
    "\n",
    "output = pd.DataFrame({'PassengerId': third.PassengerId, 'Survived': predictions})\n",
    "output.to_csv('submission.csv', index=False)\n",
    "print(\"Your submission was successfully saved!\")\n",
    "\n",
    "\n"
   ]
  },
  {
   "cell_type": "code",
   "execution_count": 35,
   "id": "afea5554",
   "metadata": {},
   "outputs": [
    {
     "name": "stdout",
     "output_type": "stream",
     "text": [
      "Prediction: [1.]\n",
      "Probabilities: [[0.4931501 0.5068499]]\n"
     ]
    },
    {
     "name": "stderr",
     "output_type": "stream",
     "text": [
      "C:\\Users\\perringaux alice\\miniconda3\\envs\\py38_1\\lib\\site-packages\\sklearn\\base.py:420: UserWarning: X does not have valid feature names, but LogisticRegression was fitted with feature names\n",
      "  warnings.warn(\n",
      "C:\\Users\\perringaux alice\\miniconda3\\envs\\py38_1\\lib\\site-packages\\sklearn\\base.py:420: UserWarning: X does not have valid feature names, but LogisticRegression was fitted with feature names\n",
      "  warnings.warn(\n"
     ]
    }
   ],
   "source": [
    "import numpy as np\n",
    "\n",
    "def Survived(model, Pclass, Sex, Age, SibSp, Parch, Fare, Embarked_C, Embarked_Q, Embarked_S):\n",
    "    x = np.array([Pclass, Sex, Age, SibSp, Parch, Fare, Embarked_C, Embarked_Q, Embarked_S]).reshape(1, -1)\n",
    "    prediction = model.predict(x)\n",
    "    probability = model.predict_proba(x)\n",
    "    print(\"Prediction:\", prediction)\n",
    "    print(\"Probabilities:\", probability)\n",
    "Survived(model, 1, 1, 35, 1, 2, 300, 0, 1, 0)    "
   ]
  },
  {
   "cell_type": "code",
   "execution_count": 51,
   "id": "69b18ac0",
   "metadata": {},
   "outputs": [
    {
     "name": "stdout",
     "output_type": "stream",
     "text": [
      "Accuracy: 0.9473684210526315\n"
     ]
    }
   ],
   "source": [
    "test_data = pd.read_csv(\"test_titanic.csv\")\n",
    "\n",
    "# Prétraitement des données de test\n",
    "test_data['Sex'] = test_data['Sex'].replace('male', 1).replace('female', 0)\n",
    "\n",
    "# Vérifier la présence de la colonne \"Embarked\" dans les données de test\n",
    "if 'Embarked' in test_data.columns:\n",
    "    test_data = pd.get_dummies(test_data, columns=['Embarked'], prefix='Embarked')\n",
    "\n",
    "test_data[\"Age\"] = test_data[\"Age\"].fillna(test_data[\"Age\"].median())\n",
    "\n",
    "# Vérifier et remplacer les valeurs manquantes dans les données de test\n",
    "test_data.fillna(0, inplace=True)\n",
    "\n",
    "X_test = test_data.drop([\"PassengerId\", \"Name\", \"Ticket\", \"Cabin\"], axis=1)\n",
    "y_true = true_labels[\"Survived\"]\n",
    "\n",
    "# Faire les prédictions sur les données de test\n",
    "predictions = model.predict(X_test)\n",
    "\n",
    "# Calculer l'accuracy du modèle en comparant les prédictions avec les vraies valeurs de survie\n",
    "accuracy = accuracy_score(y_true, predictions)\n",
    "\n",
    "print(\"Accuracy:\", accuracy)\n"
   ]
  },
  {
   "cell_type": "code",
   "execution_count": null,
   "id": "73f2c31b",
   "metadata": {},
   "outputs": [],
   "source": [
    "\n",
    "\n"
   ]
  },
  {
   "cell_type": "code",
   "execution_count": null,
   "id": "dad34bfd",
   "metadata": {},
   "outputs": [],
   "source": []
  }
 ],
 "metadata": {
  "kernelspec": {
   "display_name": "Python 3 (ipykernel)",
   "language": "python",
   "name": "python3"
  },
  "language_info": {
   "codemirror_mode": {
    "name": "ipython",
    "version": 3
   },
   "file_extension": ".py",
   "mimetype": "text/x-python",
   "name": "python",
   "nbconvert_exporter": "python",
   "pygments_lexer": "ipython3",
   "version": "3.8.16"
  }
 },
 "nbformat": 4,
 "nbformat_minor": 5
}
